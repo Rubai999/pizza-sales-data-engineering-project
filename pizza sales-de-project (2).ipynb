{
 "cells": [
  {
   "cell_type": "markdown",
   "metadata": {
    "application/vnd.databricks.v1+cell": {
     "cellMetadata": {},
     "inputWidgets": {},
     "nuid": "e5c5c484-c2a5-4f39-9bd3-ebe86979153c",
     "showTitle": false,
     "title": ""
    }
   },
   "source": [
    "**Code to mount the data from Azure Blob storage to databricks"
   ]
  },
  {
   "cell_type": "code",
   "execution_count": 0,
   "metadata": {
    "application/vnd.databricks.v1+cell": {
     "cellMetadata": {},
     "inputWidgets": {},
     "nuid": "e3332dcc-c99a-4464-ae19-f1df89380688",
     "showTitle": false,
     "title": ""
    }
   },
   "outputs": [],
   "source": [
    "'''dbutils.fs.mount(\n",
    "  source = \"wasbs://<container-name>@<storage-account-name>.blob.core.windows.net\",\n",
    "  mount_point = \"/mnt/iotdata\",\n",
    "  extra_configs = {\"fs.azure.account.key.<storage-account-name>.blob.core.windows.net\":dbutils.secrets.get(scope = \"<scope-name>\", key = \"<key-name>\")})'''"
   ]
  },
  {
   "cell_type": "markdown",
   "metadata": {
    "application/vnd.databricks.v1+cell": {
     "cellMetadata": {},
     "inputWidgets": {},
     "nuid": "0dea7a18-5642-441b-8bef-790746f0b4a2",
     "showTitle": false,
     "title": ""
    }
   },
   "source": [
    "step 1-Mounting the raw data from Blob storage of Azure to databricks for transformation"
   ]
  },
  {
   "cell_type": "code",
   "execution_count": 0,
   "metadata": {
    "application/vnd.databricks.v1+cell": {
     "cellMetadata": {
      "byteLimit": 2048000,
      "rowLimit": 10000
     },
     "inputWidgets": {},
     "nuid": "40a0695b-b014-480a-a7d7-e9c4aa032eed",
     "showTitle": false,
     "title": ""
    }
   },
   "outputs": [],
   "source": [
    "dbutils.fs.mount(\n",
    "  source = \"wasbs://container-pizzasales@storepizzasales.blob.core.windows.net\",\n",
    "  mount_point = \"/mnt/container2\",\n",
    "  extra_configs = {\"fs.azure.account.key.storepizzasales.blob.core.windows.net\":\"sXckuSZfkpg60GknwgzCWDbMwAzIj4j5If0jp0+oOcxbRpm8+is5R/gXo3CVe4wZnkA7FLbsmXA++AStIVe1jQ==\"})"
   ]
  },
  {
   "cell_type": "code",
   "execution_count": 0,
   "metadata": {
    "application/vnd.databricks.v1+cell": {
     "cellMetadata": {
      "byteLimit": 2048000,
      "rowLimit": 10000
     },
     "inputWidgets": {},
     "nuid": "7d4556b7-fe90-4043-9e7d-b33cbd1f4060",
     "showTitle": false,
     "title": ""
    }
   },
   "outputs": [],
   "source": [
    "dbutils.fs.ls(\"/mnt/container2\")"
   ]
  },
  {
   "cell_type": "markdown",
   "metadata": {
    "application/vnd.databricks.v1+cell": {
     "cellMetadata": {},
     "inputWidgets": {},
     "nuid": "a9884ca3-bc63-4ce6-a5a9-c7481b258eb0",
     "showTitle": false,
     "title": ""
    }
   },
   "source": [
    "step 2--Reading the data and creating a dataframe"
   ]
  },
  {
   "cell_type": "code",
   "execution_count": 0,
   "metadata": {
    "application/vnd.databricks.v1+cell": {
     "cellMetadata": {
      "byteLimit": 2048000,
      "rowLimit": 10000
     },
     "inputWidgets": {},
     "nuid": "1eec56ad-f212-436d-9c64-2be98ea81572",
     "showTitle": false,
     "title": ""
    }
   },
   "outputs": [],
   "source": [
    "df= spark.read.format(\"csv\").options(header='true',inferschema='true').load('dbfs:/mnt/container2/data_8c6eb94e-2d41-403a-915f-56a4fa670482_6a484f54-d490-4b9c-9bb3-2d558423e57e.txt')"
   ]
  },
  {
   "cell_type": "markdown",
   "metadata": {
    "application/vnd.databricks.v1+cell": {
     "cellMetadata": {},
     "inputWidgets": {},
     "nuid": "b6fe3a73-2c3b-415d-9a86-068069c2a70d",
     "showTitle": false,
     "title": ""
    }
   },
   "source": [
    "Displaying the data"
   ]
  },
  {
   "cell_type": "code",
   "execution_count": 0,
   "metadata": {
    "application/vnd.databricks.v1+cell": {
     "cellMetadata": {
      "byteLimit": 2048000,
      "rowLimit": 10000
     },
     "inputWidgets": {},
     "nuid": "55f5baf5-cbe7-4b64-98fa-835ae44bca81",
     "showTitle": false,
     "title": ""
    }
   },
   "outputs": [],
   "source": [
    "df.display()"
   ]
  },
  {
   "cell_type": "markdown",
   "metadata": {
    "application/vnd.databricks.v1+cell": {
     "cellMetadata": {},
     "inputWidgets": {},
     "nuid": "8ab8ba1d-304e-4576-adaf-fa588edf7f51",
     "showTitle": false,
     "title": ""
    }
   },
   "source": [
    "step 3--Creating a temp view of the dataframe to conduct sql operations"
   ]
  },
  {
   "cell_type": "code",
   "execution_count": 0,
   "metadata": {
    "application/vnd.databricks.v1+cell": {
     "cellMetadata": {
      "byteLimit": 2048000,
      "rowLimit": 10000
     },
     "inputWidgets": {},
     "nuid": "e0dc0e27-2667-402d-8760-a9669ba4ea8d",
     "showTitle": false,
     "title": ""
    }
   },
   "outputs": [],
   "source": [
    "df.createOrReplaceTempView(\"pizza_sales_analysis\")"
   ]
  },
  {
   "cell_type": "code",
   "execution_count": 0,
   "metadata": {
    "application/vnd.databricks.v1+cell": {
     "cellMetadata": {
      "byteLimit": 2048000,
      "implicitDf": true,
      "rowLimit": 10000
     },
     "inputWidgets": {},
     "nuid": "92a43f44-7cfc-4938-8460-8828185f43b0",
     "showTitle": false,
     "title": ""
    }
   },
   "outputs": [],
   "source": [
    "%sql\n",
    "select * from pizza_sales_analysis;"
   ]
  },
  {
   "cell_type": "markdown",
   "metadata": {
    "application/vnd.databricks.v1+cell": {
     "cellMetadata": {},
     "inputWidgets": {},
     "nuid": "46583def-06ca-4e0d-b310-271da276f5a8",
     "showTitle": false,
     "title": ""
    }
   },
   "source": [
    "Step 4--Creating a new dataset by doing some transformations and grouping of the required data for further analysis."
   ]
  },
  {
   "cell_type": "code",
   "execution_count": 0,
   "metadata": {
    "application/vnd.databricks.v1+cell": {
     "cellMetadata": {
      "byteLimit": 2048000,
      "implicitDf": true,
      "rowLimit": 10000
     },
     "inputWidgets": {},
     "nuid": "7a24f6e3-d26d-493e-8768-f4ef89bafebf",
     "showTitle": false,
     "title": ""
    }
   },
   "outputs": [],
   "source": [
    "%sql\n",
    "select\n",
    "count(distinct order_id) as order_id,\n",
    "sum(quantity)as quantity,\n",
    "date_format(order_date,'MMM') as month_name,\n",
    "date_format(order_date,'EEEE') as day_name,\n",
    "hour(order_time) as order_time,\n",
    "sum(unit_price) as unit_price,\n",
    "sum(total_price) as total_price,\n",
    "pizza_size,\n",
    "pizza_category,\n",
    "pizza_name\n",
    "from pizza_sales_analysis\n",
    "group by 3,4,5,8,9,10;"
   ]
  },
  {
   "cell_type": "markdown",
   "metadata": {
    "application/vnd.databricks.v1+cell": {
     "cellMetadata": {},
     "inputWidgets": {},
     "nuid": "ec7468cf-6b1e-4d34-b4db-099c7ebe7712",
     "showTitle": false,
     "title": ""
    }
   },
   "source": [
    "The next step is to use the grouped and transformed data for further analysis in Power bi and create a report"
   ]
  }
 ],
 "metadata": {
  "application/vnd.databricks.v1+notebook": {
   "dashboards": [],
   "language": "python",
   "notebookMetadata": {
    "mostRecentlyExecutedCommandWithImplicitDF": {
     "commandId": 687995394032917,
     "dataframes": [
      "_sqldf"
     ]
    },
    "pythonIndentUnit": 4
   },
   "notebookName": "pizza sales-de-project",
   "widgets": {}
  }
 },
 "nbformat": 4,
 "nbformat_minor": 0
}
