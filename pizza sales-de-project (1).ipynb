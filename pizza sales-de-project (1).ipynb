{
 "cells": [
  {
   "cell_type": "code",
   "execution_count": 0,
   "metadata": {
    "application/vnd.databricks.v1+cell": {
     "cellMetadata": {
      "byteLimit": 2048000,
      "rowLimit": 10000
     },
     "inputWidgets": {},
     "nuid": "81641de9-bc12-40e3-aa46-0d53eefa20fd",
     "showTitle": false,
     "title": ""
    }
   },
   "outputs": [],
   "source": [
    "print(\"hello world\")"
   ]
  },
  {
   "cell_type": "code",
   "execution_count": 0,
   "metadata": {
    "application/vnd.databricks.v1+cell": {
     "cellMetadata": {},
     "inputWidgets": {},
     "nuid": "e3332dcc-c99a-4464-ae19-f1df89380688",
     "showTitle": false,
     "title": ""
    }
   },
   "outputs": [],
   "source": [
    "'''dbutils.fs.mount(\n",
    "  source = \"wasbs://<container-name>@<storage-account-name>.blob.core.windows.net\",\n",
    "  mount_point = \"/mnt/iotdata\",\n",
    "  extra_configs = {\"fs.azure.account.key.<storage-account-name>.blob.core.windows.net\":dbutils.secrets.get(scope = \"<scope-name>\", key = \"<key-name>\")})'''"
   ]
  },
  {
   "cell_type": "code",
   "execution_count": 0,
   "metadata": {
    "application/vnd.databricks.v1+cell": {
     "cellMetadata": {
      "byteLimit": 2048000,
      "rowLimit": 10000
     },
     "inputWidgets": {},
     "nuid": "40a0695b-b014-480a-a7d7-e9c4aa032eed",
     "showTitle": false,
     "title": ""
    }
   },
   "outputs": [],
   "source": [
    "dbutils.fs.mount(\n",
    "  source = \"wasbs://container-pizzasales@storepizzasales.blob.core.windows.net\",\n",
    "  mount_point = \"/mnt/container2\",\n",
    "  extra_configs = {\"fs.azure.account.key.storepizzasales.blob.core.windows.net\":\"sXckuSZfkpg60GknwgzCWDbMwAzIj4j5If0jp0+oOcxbRpm8+is5R/gXo3CVe4wZnkA7FLbsmXA++AStIVe1jQ==\"})"
   ]
  },
  {
   "cell_type": "code",
   "execution_count": 0,
   "metadata": {
    "application/vnd.databricks.v1+cell": {
     "cellMetadata": {
      "byteLimit": 2048000,
      "rowLimit": 10000
     },
     "inputWidgets": {},
     "nuid": "7d4556b7-fe90-4043-9e7d-b33cbd1f4060",
     "showTitle": false,
     "title": ""
    }
   },
   "outputs": [],
   "source": [
    "dbutils.fs.ls(\"/mnt/container2\")"
   ]
  },
  {
   "cell_type": "code",
   "execution_count": 0,
   "metadata": {
    "application/vnd.databricks.v1+cell": {
     "cellMetadata": {
      "byteLimit": 2048000,
      "rowLimit": 10000
     },
     "inputWidgets": {},
     "nuid": "1eec56ad-f212-436d-9c64-2be98ea81572",
     "showTitle": false,
     "title": ""
    }
   },
   "outputs": [],
   "source": [
    "df= spark.read.format(\"csv\").options(header='true',inferschema='true').load('dbfs:/mnt/container2/data_8c6eb94e-2d41-403a-915f-56a4fa670482_6a484f54-d490-4b9c-9bb3-2d558423e57e.txt')"
   ]
  },
  {
   "cell_type": "code",
   "execution_count": 0,
   "metadata": {
    "application/vnd.databricks.v1+cell": {
     "cellMetadata": {
      "byteLimit": 2048000,
      "rowLimit": 10000
     },
     "inputWidgets": {},
     "nuid": "55f5baf5-cbe7-4b64-98fa-835ae44bca81",
     "showTitle": false,
     "title": ""
    }
   },
   "outputs": [],
   "source": [
    "df.display()"
   ]
  },
  {
   "cell_type": "code",
   "execution_count": 0,
   "metadata": {
    "application/vnd.databricks.v1+cell": {
     "cellMetadata": {
      "byteLimit": 2048000,
      "rowLimit": 10000
     },
     "inputWidgets": {},
     "nuid": "e0dc0e27-2667-402d-8760-a9669ba4ea8d",
     "showTitle": false,
     "title": ""
    }
   },
   "outputs": [],
   "source": [
    "df.createOrReplaceTempView(\"pizza_sales_analysis\")"
   ]
  },
  {
   "cell_type": "code",
   "execution_count": 0,
   "metadata": {
    "application/vnd.databricks.v1+cell": {
     "cellMetadata": {
      "byteLimit": 2048000,
      "implicitDf": true,
      "rowLimit": 10000
     },
     "inputWidgets": {},
     "nuid": "92a43f44-7cfc-4938-8460-8828185f43b0",
     "showTitle": false,
     "title": ""
    }
   },
   "outputs": [],
   "source": [
    "%sql\n",
    "select * from pizza_sales_analysis;"
   ]
  },
  {
   "cell_type": "code",
   "execution_count": 0,
   "metadata": {
    "application/vnd.databricks.v1+cell": {
     "cellMetadata": {
      "byteLimit": 2048000,
      "implicitDf": true,
      "rowLimit": 10000
     },
     "inputWidgets": {},
     "nuid": "7a24f6e3-d26d-493e-8768-f4ef89bafebf",
     "showTitle": false,
     "title": ""
    }
   },
   "outputs": [],
   "source": [
    "%sql\n",
    "select\n",
    "count(distinct order_id) as order_id,\n",
    "sum(quantity)as quantity,\n",
    "date_format(order_date,'MMM') as month_name,\n",
    "date_format(order_date,'EEEE') as day_name,\n",
    "hour(order_time) as order_time,\n",
    "sum(unit_price) as unit_price,\n",
    "sum(total_price) as total_price,\n",
    "pizza_size,\n",
    "pizza_category,\n",
    "pizza_name\n",
    "from pizza_sales_analysis\n",
    "group by 3,4,5,8,9,10;"
   ]
  },
  {
   "cell_type": "code",
   "execution_count": 0,
   "metadata": {
    "application/vnd.databricks.v1+cell": {
     "cellMetadata": {},
     "inputWidgets": {},
     "nuid": "ec7468cf-6b1e-4d34-b4db-099c7ebe7712",
     "showTitle": false,
     "title": ""
    }
   },
   "outputs": [],
   "source": []
  },
  {
   "cell_type": "code",
   "execution_count": 0,
   "metadata": {
    "application/vnd.databricks.v1+cell": {
     "cellMetadata": {},
     "inputWidgets": {},
     "nuid": "f9b19f55-6bc5-40be-8a18-79f4923237bc",
     "showTitle": false,
     "title": ""
    }
   },
   "outputs": [],
   "source": []
  },
  {
   "cell_type": "code",
   "execution_count": 0,
   "metadata": {
    "application/vnd.databricks.v1+cell": {
     "cellMetadata": {},
     "inputWidgets": {},
     "nuid": "2ebc129b-a025-45ad-b0f3-a098a1e2b590",
     "showTitle": false,
     "title": ""
    }
   },
   "outputs": [],
   "source": []
  },
  {
   "cell_type": "code",
   "execution_count": 0,
   "metadata": {
    "application/vnd.databricks.v1+cell": {
     "cellMetadata": {},
     "inputWidgets": {},
     "nuid": "843257bf-9a09-4e82-a2fb-399e73af9009",
     "showTitle": false,
     "title": ""
    }
   },
   "outputs": [],
   "source": []
  }
 ],
 "metadata": {
  "application/vnd.databricks.v1+notebook": {
   "dashboards": [],
   "language": "python",
   "notebookMetadata": {
    "mostRecentlyExecutedCommandWithImplicitDF": {
     "commandId": 687995394032917,
     "dataframes": [
      "_sqldf"
     ]
    },
    "pythonIndentUnit": 4
   },
   "notebookName": "pizza sales-de-project",
   "widgets": {}
  }
 },
 "nbformat": 4,
 "nbformat_minor": 0
}
